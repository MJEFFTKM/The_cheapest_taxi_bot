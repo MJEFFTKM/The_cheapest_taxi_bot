{
  "nbformat": 4,
  "nbformat_minor": 0,
  "metadata": {
    "colab": {
      "name": "CheapTaxi.ipynb",
      "provenance": [],
      "collapsed_sections": [],
      "authorship_tag": "ABX9TyPw5KqmNG0j0mcRMh5rjDzy",
      "include_colab_link": true
    },
    "kernelspec": {
      "name": "python3",
      "display_name": "Python 3"
    }
  },
  "cells": [
    {
      "cell_type": "markdown",
      "metadata": {
        "id": "view-in-github",
        "colab_type": "text"
      },
      "source": [
        "<a href=\"https://colab.research.google.com/github/MJEFFTKM/The_cheapest_taxi_bot/blob/main/CheapTaxi.ipynb\" target=\"_parent\"><img src=\"https://colab.research.google.com/assets/colab-badge.svg\" alt=\"Open In Colab\"/></a>"
      ]
    },
    {
      "cell_type": "code",
      "metadata": {
        "id": "nBwOr9Egrx9I",
        "colab": {
          "base_uri": "https://localhost:8080/"
        },
        "outputId": "8b994b73-d98e-4c69-f059-42dbd88a6037"
      },
      "source": [
        "!pip install python-telegram-bot"
      ],
      "execution_count": null,
      "outputs": [
        {
          "output_type": "stream",
          "text": [
            "Collecting python-telegram-bot\n",
            "\u001b[?25l  Downloading https://files.pythonhosted.org/packages/cc/b3/f363e9c5c2e4690a1fd352c01263eb2938952888c09d73c824b49d288dcc/python_telegram_bot-13.1-py3-none-any.whl (422kB)\n",
            "\u001b[K     |████████████████████████████████| 430kB 5.8MB/s \n",
            "\u001b[?25hRequirement already satisfied: tornado>=5.1 in /usr/local/lib/python3.6/dist-packages (from python-telegram-bot) (5.1.1)\n",
            "Requirement already satisfied: certifi in /usr/local/lib/python3.6/dist-packages (from python-telegram-bot) (2020.12.5)\n",
            "Requirement already satisfied: pytz>=2018.6 in /usr/local/lib/python3.6/dist-packages (from python-telegram-bot) (2018.9)\n",
            "Requirement already satisfied: decorator>=4.4.0 in /usr/local/lib/python3.6/dist-packages (from python-telegram-bot) (4.4.2)\n",
            "Collecting APScheduler==3.6.3\n",
            "\u001b[?25l  Downloading https://files.pythonhosted.org/packages/f3/34/9ef20ed473c4fd2c3df54ef77a27ae3fc7500b16b192add4720cab8b2c09/APScheduler-3.6.3-py2.py3-none-any.whl (58kB)\n",
            "\u001b[K     |████████████████████████████████| 61kB 5.7MB/s \n",
            "\u001b[?25hCollecting cryptography\n",
            "\u001b[?25l  Downloading https://files.pythonhosted.org/packages/c9/de/7054df0620b5411ba45480f0261e1fb66a53f3db31b28e3aa52c026e72d9/cryptography-3.3.1-cp36-abi3-manylinux2010_x86_64.whl (2.6MB)\n",
            "\u001b[K     |████████████████████████████████| 2.6MB 8.3MB/s \n",
            "\u001b[?25hRequirement already satisfied: tzlocal>=1.2 in /usr/local/lib/python3.6/dist-packages (from APScheduler==3.6.3->python-telegram-bot) (1.5.1)\n",
            "Requirement already satisfied: setuptools>=0.7 in /usr/local/lib/python3.6/dist-packages (from APScheduler==3.6.3->python-telegram-bot) (51.1.1)\n",
            "Requirement already satisfied: six>=1.4.0 in /usr/local/lib/python3.6/dist-packages (from APScheduler==3.6.3->python-telegram-bot) (1.15.0)\n",
            "Requirement already satisfied: cffi>=1.12 in /usr/local/lib/python3.6/dist-packages (from cryptography->python-telegram-bot) (1.14.4)\n",
            "Requirement already satisfied: pycparser in /usr/local/lib/python3.6/dist-packages (from cffi>=1.12->cryptography->python-telegram-bot) (2.20)\n",
            "Installing collected packages: APScheduler, cryptography, python-telegram-bot\n",
            "Successfully installed APScheduler-3.6.3 cryptography-3.3.1 python-telegram-bot-13.1\n"
          ],
          "name": "stdout"
        }
      ]
    },
    {
      "cell_type": "code",
      "metadata": {
        "colab": {
          "base_uri": "https://localhost:8080/"
        },
        "id": "zdYoirAfoSJa",
        "outputId": "d3ec3b6a-5e6e-4261-e536-64641b062bac"
      },
      "source": [
        "!pip install python—telegram-bot\n",
        "!pip3 install PyTelegramBotAPI==3.7.4\n",
        "!pip install uber-rides"
      ],
      "execution_count": null,
      "outputs": [
        {
          "output_type": "stream",
          "text": [
            "\u001b[31mERROR: Invalid requirement: 'python—telegram-bot'\u001b[0m\n",
            "Requirement already satisfied: PyTelegramBotAPI==3.7.4 in /usr/local/lib/python3.6/dist-packages (3.7.4)\n",
            "Requirement already satisfied: requests in /usr/local/lib/python3.6/dist-packages (from PyTelegramBotAPI==3.7.4) (2.23.0)\n",
            "Requirement already satisfied: urllib3!=1.25.0,!=1.25.1,<1.26,>=1.21.1 in /usr/local/lib/python3.6/dist-packages (from requests->PyTelegramBotAPI==3.7.4) (1.24.3)\n",
            "Requirement already satisfied: idna<3,>=2.5 in /usr/local/lib/python3.6/dist-packages (from requests->PyTelegramBotAPI==3.7.4) (2.10)\n",
            "Requirement already satisfied: certifi>=2017.4.17 in /usr/local/lib/python3.6/dist-packages (from requests->PyTelegramBotAPI==3.7.4) (2020.12.5)\n",
            "Requirement already satisfied: chardet<4,>=3.0.2 in /usr/local/lib/python3.6/dist-packages (from requests->PyTelegramBotAPI==3.7.4) (3.0.4)\n",
            "Requirement already satisfied: uber-rides in /usr/local/lib/python3.6/dist-packages (0.6.0)\n",
            "Requirement already satisfied: pyyaml in /usr/local/lib/python3.6/dist-packages (from uber-rides) (3.13)\n",
            "Requirement already satisfied: requests in /usr/local/lib/python3.6/dist-packages (from uber-rides) (2.23.0)\n",
            "Requirement already satisfied: chardet<4,>=3.0.2 in /usr/local/lib/python3.6/dist-packages (from requests->uber-rides) (3.0.4)\n",
            "Requirement already satisfied: urllib3!=1.25.0,!=1.25.1,<1.26,>=1.21.1 in /usr/local/lib/python3.6/dist-packages (from requests->uber-rides) (1.24.3)\n",
            "Requirement already satisfied: certifi>=2017.4.17 in /usr/local/lib/python3.6/dist-packages (from requests->uber-rides) (2020.12.5)\n",
            "Requirement already satisfied: idna<3,>=2.5 in /usr/local/lib/python3.6/dist-packages (from requests->uber-rides) (2.10)\n"
          ],
          "name": "stdout"
        }
      ]
    },
    {
      "cell_type": "code",
      "metadata": {
        "colab": {
          "base_uri": "https://localhost:8080/",
          "height": 232
        },
        "id": "wrRlPodUEeOy",
        "outputId": "9edbe920-84eb-442e-aa87-a3e42d7fffb5"
      },
      "source": [
        "from uber_rides.auth import AuthorizationCodeGrant\n",
        "auth_flow = AuthorizationCodeGrant(\n",
        "    'Nvcji2FLs9TV1SCr7yo4VpcpH4QIIw7B',\n",
        "    <SCOPES>,\n",
        "    'ekYeaTTQlp1sd9gA3nkRISb5kxCqsBTO9p2QVtii',\n",
        "    <REDIRECT_URI>\n",
        ")\n",
        "auth_url = auth_flow.get_authorization_url()\n",
        "session = auth_flow.get_session(redirect_url)"
      ],
      "execution_count": null,
      "outputs": [
        {
          "output_type": "error",
          "ename": "TypeError",
          "evalue": "ignored",
          "traceback": [
            "\u001b[0;31m---------------------------------------------------------------------------\u001b[0m",
            "\u001b[0;31mTypeError\u001b[0m                                 Traceback (most recent call last)",
            "\u001b[0;32m<ipython-input-5-a11228747ccf>\u001b[0m in \u001b[0;36m<module>\u001b[0;34m()\u001b[0m\n\u001b[1;32m      2\u001b[0m auth_flow = AuthorizationCodeGrant(\n\u001b[1;32m      3\u001b[0m     \u001b[0;34m'Nvcji2FLs9TV1SCr7yo4VpcpH4QIIw7B'\u001b[0m\u001b[0;34m,\u001b[0m\u001b[0;34m\u001b[0m\u001b[0;34m\u001b[0m\u001b[0m\n\u001b[0;32m----> 4\u001b[0;31m     \u001b[0;34m'ekYeaTTQlp1sd9gA3nkRISb5kxCqsBTO9p2QVtii'\u001b[0m\u001b[0;34m,\u001b[0m\u001b[0;34m\u001b[0m\u001b[0;34m\u001b[0m\u001b[0m\n\u001b[0m\u001b[1;32m      5\u001b[0m )\n\u001b[1;32m      6\u001b[0m \u001b[0mauth_url\u001b[0m \u001b[0;34m=\u001b[0m \u001b[0mauth_flow\u001b[0m\u001b[0;34m.\u001b[0m\u001b[0mget_authorization_url\u001b[0m\u001b[0;34m(\u001b[0m\u001b[0;34m)\u001b[0m\u001b[0;34m\u001b[0m\u001b[0;34m\u001b[0m\u001b[0m\n",
            "\u001b[0;31mTypeError\u001b[0m: __init__() missing 2 required positional arguments: 'client_secret' and 'redirect_url'"
          ]
        }
      ]
    },
    {
      "cell_type": "code",
      "metadata": {
        "colab": {
          "base_uri": "https://localhost:8080/",
          "height": 303
        },
        "id": "wi9pNduo3pQc",
        "outputId": "2324d009-31c4-40a4-b73e-880564ff6ea3"
      },
      "source": [
        "client = UberRidesClient(session)\n",
        "\n",
        "response = client.get_price_estimates(\n",
        "    start_latitude=37.770,\n",
        "    start_longitude=-122.411,\n",
        "    end_latitude=37.791,\n",
        "    end_longitude=-122.405,\n",
        "    seat_count=2\n",
        ")\n",
        "\n",
        "estimate = response.json.get('prices')"
      ],
      "execution_count": null,
      "outputs": [
        {
          "output_type": "error",
          "ename": "TypeError",
          "evalue": "ignored",
          "traceback": [
            "\u001b[0;31m---------------------------------------------------------------------------\u001b[0m",
            "\u001b[0;31mTypeError\u001b[0m                                 Traceback (most recent call last)",
            "\u001b[0;32m<ipython-input-4-e002b0e6cf2a>\u001b[0m in \u001b[0;36m<module>\u001b[0;34m()\u001b[0m\n\u001b[1;32m      2\u001b[0m \u001b[0;32mfrom\u001b[0m \u001b[0muber_rides\u001b[0m\u001b[0;34m.\u001b[0m\u001b[0mclient\u001b[0m \u001b[0;32mimport\u001b[0m \u001b[0mUberRidesClient\u001b[0m\u001b[0;34m\u001b[0m\u001b[0;34m\u001b[0m\u001b[0m\n\u001b[1;32m      3\u001b[0m \u001b[0;34m\u001b[0m\u001b[0m\n\u001b[0;32m----> 4\u001b[0;31m \u001b[0msession\u001b[0m \u001b[0;34m=\u001b[0m \u001b[0mSession\u001b[0m\u001b[0;34m(\u001b[0m\u001b[0mauthorization_code\u001b[0m\u001b[0;34m=\u001b[0m\u001b[0;34m'JA.VUNmGAAAAAAAEgASAAAABwAIAAwAAAAAAAAAEgAAAAAAAAH4AAAAFAAAAAAADgAQAAQAAAAIAAwAAAAOAAAAzAAAABwAAAAEAAAAEAAAAMmyg4AWAvUkPsPygAb903inAAAAM2tCIGSE34dSB0yGmyprBG5IHjepkPd-QNsdxlI5PBm8arBdrS6n5MhPwkpPTNU-8SDM-UnScrIRvRDkwr8wNkGZBBQQXTA-pWtbpJhrd_7TyOhBULXF4YdUOPMrTcaaIHJvzZUq8QoBE29vw3s6L1HQFZXPY2l4Wqv07U2-qJaIiG4DHVAoQJTxJBokY4hDkN537CwQPgBUgKQIhfDgpIKYp1i1xNUADAAAAFc4C9cn4NdkjREnFyQAAABiMGQ4NTgwMy0zOGEwLTQyYjMtODA2ZS03YTRjZjhlMTk2ZWU'\u001b[0m\u001b[0;34m)\u001b[0m\u001b[0;34m\u001b[0m\u001b[0;34m\u001b[0m\u001b[0m\n\u001b[0m\u001b[1;32m      5\u001b[0m \u001b[0mclient\u001b[0m \u001b[0;34m=\u001b[0m \u001b[0mUberRidesClient\u001b[0m\u001b[0;34m(\u001b[0m\u001b[0msession\u001b[0m\u001b[0;34m)\u001b[0m\u001b[0;34m\u001b[0m\u001b[0;34m\u001b[0m\u001b[0m\n\u001b[1;32m      6\u001b[0m \u001b[0;34m\u001b[0m\u001b[0m\n",
            "\u001b[0;31mTypeError\u001b[0m: __init__() got an unexpected keyword argument 'authorization_code'"
          ]
        }
      ]
    },
    {
      "cell_type": "code",
      "metadata": {
        "colab": {
          "base_uri": "https://localhost:8080/",
          "height": 317
        },
        "id": "3caH7nIpaPDF",
        "outputId": "24b40f74-0c32-4623-8db0-6b99f354d5c8"
      },
      "source": [
        "import bs4\n",
        "import selenium\n"
      ],
      "execution_count": null,
      "outputs": [
        {
          "output_type": "error",
          "ename": "ModuleNotFoundError",
          "evalue": "ignored",
          "traceback": [
            "\u001b[0;31m---------------------------------------------------------------------------\u001b[0m",
            "\u001b[0;31mModuleNotFoundError\u001b[0m                       Traceback (most recent call last)",
            "\u001b[0;32m<ipython-input-14-ec22d7183c4b>\u001b[0m in \u001b[0;36m<module>\u001b[0;34m()\u001b[0m\n\u001b[1;32m      1\u001b[0m \u001b[0;32mimport\u001b[0m \u001b[0mbs4\u001b[0m\u001b[0;34m\u001b[0m\u001b[0;34m\u001b[0m\u001b[0m\n\u001b[0;32m----> 2\u001b[0;31m \u001b[0;32mimport\u001b[0m \u001b[0mselenium\u001b[0m\u001b[0;34m\u001b[0m\u001b[0;34m\u001b[0m\u001b[0m\n\u001b[0m",
            "\u001b[0;31mModuleNotFoundError\u001b[0m: No module named 'selenium'",
            "",
            "\u001b[0;31m---------------------------------------------------------------------------\u001b[0;32m\nNOTE: If your import is failing due to a missing package, you can\nmanually install dependencies using either !pip or !apt.\n\nTo view examples of installing some common dependencies, click the\n\"Open Examples\" button below.\n\u001b[0;31m---------------------------------------------------------------------------\u001b[0m\n"
          ]
        }
      ]
    },
    {
      "cell_type": "code",
      "metadata": {
        "id": "IN762UxMoH5M"
      },
      "source": [
        "#!/usr/bin/env python\n",
        "# -*- coding: utf-8 -*-\n",
        "#Подлкючаем библиотеку requests\n",
        "import requests\n",
        "import logging\n",
        "import bs4\n",
        "#Подключаем нужные для бота модули из библиотеки telegram.ext\n",
        "from telegram.ext import Updater, CommandHandler, MessageHandler, Filters, ConversationHandler, CallbackContext\n",
        "from telegram import InlineKeyboardButton\n",
        "from telegram import InlineKeyboardMarkup\n",
        "from telegram import ReplyKeyboardMarkup, ReplyKeyboardRemove, Update\n",
        "from telegram import Bot\n",
        "\n",
        "CLID = \"ak1507\"\n",
        "APIKEY = \"03a97db47ad24327b7c9f5e5551658e7\"\n",
        "\n",
        "location_start = ''\n",
        "location_end = ''\n",
        "\n",
        "class_of_taxi = ''\n",
        "\n",
        "start_lon = ''\n",
        "start_lat = ''\n",
        "\n",
        "end_lon = ''\n",
        "end_lat = ''\n",
        "\n",
        "START, CHECK_START, END, CHECK_END, CLASS  = range(5)\n",
        "\n",
        "\n",
        "def yandex_price():\n",
        "    global CLID, APIKEY, location_start, location_end, class_of_taxi, start_lon, start_lat, end_lon, end_lat\n",
        "    level_class = \"\"\n",
        "    print(class_of_taxi)\n",
        "    if class_of_taxi == 'Эконом':\n",
        "        level_class = 'econom'\n",
        "    elif class_of_taxi == 'Комфорт':\n",
        "        level_class = 'business'\n",
        "    else:\n",
        "        level_class = 'comfortplus'\n",
        "    PARAMS = {\n",
        "    \"clid\": CLID,\n",
        "    \"apikey\": APIKEY,\n",
        "    \"rll\": start_lon + \",\" + start_lat + \"~\" + end_lon + \",\" + end_lat,\n",
        "    \"class\": level_class,\n",
        "    }\n",
        "    print(type(start_lon), type(start_lat), type(end_lon), type(end_lat))\n",
        "    r = requests.get(url=\"https://taxi-routeinfo.taxi.yandex.net/taxi_info?\", params=PARAMS)\n",
        "    r = r.json()\n",
        "    return r['options'][0]['price_text'], str(r['options'][0]['waiting_time'] // 60)[:-2]\n",
        "\n",
        "def uber_price():\n",
        "    global CLID, APIKEY, location_start, location_end, class_of_taxi, start_lon, start_lat, end_lon, end_lat\n",
        "    level_class = \"\"\n",
        "    print(class_of_taxi)\n",
        "    if class_of_taxi == 'Эконом':\n",
        "        level_class = 'econom'\n",
        "    elif class_of_taxi == 'Комфорт':\n",
        "        level_class = 'business'\n",
        "    else:\n",
        "        level_class = 'comfortplus'\n",
        "\n",
        "def get_coords_from_address(adress):\n",
        "    PARAMS = {\n",
        "    \"apikey\": \"bb01a0bf-02f4-459a-9764-1b854cbce432\",\n",
        "    \"format\": \"json\",\n",
        "    \"lang\": \"ru_RU\",\n",
        "    \"kind\": \"house\",\n",
        "    \"geocode\": adress\n",
        "    }\n",
        "    \n",
        "    try:\n",
        "\n",
        "        r = requests.get(url=\"https://geocode-maps.yandex.ru/1.x/\", params=PARAMS)\n",
        "        json_data = r.json()\n",
        "        lon, lat = json_data['response']['GeoObjectCollection']['featureMember'][0]['GeoObject']['Point']['pos'].split()\n",
        "        address_str = json_data['response']['GeoObjectCollection']['featureMember'][0]['GeoObject']['metaDataProperty']['GeocoderMetaData']['AddressDetails']['Country']['AddressLine']\n",
        "        return address_str, lon, lat\n",
        "    #долгота = 37.47174\n",
        "    #широта = 55.652999\n",
        "    except Exception as e:\n",
        "        #единственное что тут изменилось, так это сообщение об ошибке.\n",
        "        return \"\"\n",
        "\n",
        "def get_address_from_coords(coords):\n",
        "    PARAMS = {\n",
        "        \"apikey\": \"bb01a0bf-02f4-459a-9764-1b854cbce432\",\n",
        "        \"format\": \"json\",\n",
        "        \"lang\": \"ru_RU\",\n",
        "        \"kind\": \"house\",\n",
        "        \"geocode\": coords\n",
        "    }\n",
        "\n",
        "    try:\n",
        "        r = requests.get(url=\"https://geocode-maps.yandex.ru/1.x/\", params=PARAMS)\n",
        "        json_data = r.json()\n",
        "        address_str = json_data[\"response\"][\"GeoObjectCollection\"][\"featureMember\"][0][\"GeoObject\"][\"metaDataProperty\"][\n",
        "            \"GeocoderMetaData\"][\"AddressDetails\"][\"Country\"][\"AddressLine\"]\n",
        "        return address_str\n",
        "\n",
        "    except Exception as e:\n",
        "        #единственное что тут изменилось, так это сообщение об ошибке.\n",
        "        return \"\"\n",
        "        \n",
        "\n",
        "#Эта функция будет использоваться когда человек первый нажал в боте START\n",
        "def start(update, context):\n",
        "    global location_start, location_end, class_of_taxi, start_lon, start_lat, end_lon, end_lat\n",
        "    #эта строка отправляет сообщение пользователю с просьбой послать локацию или координаты\n",
        "    update.message.reply_text(\"🚕Здравствуйте, я бот, который ищет самое дешевое такси откуда вам хочется, и куда вам нужно:)\")\n",
        "    update.message.reply_text(\"📍Прикрепите геолокацию (может быть неточной) или напишите адрес начала маршрута.📍\")\n",
        "    return START\n",
        "\n",
        "#Эта функция будет использоваться, если пользователь послал в бота любой текст.\n",
        "#Мы ожидаем координаты, но если прийдет что-то другое не страшно, ведь мы описали в функции получения адреса возвращение ошибки в случае чего.  \n",
        "\n",
        "def class_taxi(update, context):\n",
        "    global location_start, location_end, class_of_taxi, start_lon, start_lat, end_lon, end_lat\n",
        "    class_of_taxi = update.message.text\n",
        "    if class_of_taxi != 'Эконом' and  class_of_taxi != 'Комфорт' and class_of_taxi != 'Комфорт+':\n",
        "        update.message.reply_text(\"К сожалению, такого класса нет;(\")\n",
        "        update.message.reply_text(\"Выберете еще раз класс на котором хотите поехать\", reply_markup=ReplyKeyboardMarkup(reply_keyboard, one_time_keyboard=True))\n",
        "        return CLASS\n",
        "    else:\n",
        "        price, time = yandex_price()\n",
        "        update.message.reply_text(\"Яндекс.GO цена: \" + price + \" минут ждать: \" + time, reply_markup=ReplyKeyboardRemove())\n",
        "        return ConversationHandler.END\n",
        "\n",
        "def check_start(update: Updater, context: CallbackContext):\n",
        "    global location_start, location_end, class_of_taxi, start_lon, start_lat, end_lon, end_lat\n",
        "    ans = update.message.text\n",
        "    if ans == \"Закончить\":\n",
        "        update.message.reply_text(\"Надеюсь, еще увидимся😉. Когда я вам понадоблюсь, просто наберите /start\", reply_markup=ReplyKeyboardRemove())\n",
        "        return ConversationHandler.END\n",
        "    elif ans == \"Исправить\":\n",
        "        update.message.reply_text(\"📍Прикрепите геолокацию или напишите адрес начала маршрута еще раз.📍\", reply_markup=ReplyKeyboardRemove())\n",
        "        return START\n",
        "    else:\n",
        "        update.message.reply_text(\"Адрес начала пути: \" + location_start, reply_markup=ReplyKeyboardRemove())\n",
        "        update.message.reply_text(\"📍Прикрепите геолокацию или напишите адрес конца маршрута.📍\")\n",
        "        return END\n",
        "\n",
        "def check_end(update: Updater, context: CallbackContext):\n",
        "    global location_start, location_end, class_of_taxi, start_lon, start_lat, end_lon, end_lat\n",
        "    ans = update.message.text\n",
        "    if ans == \"Закончить\":\n",
        "        update.message.reply_text(\"Надеюсь, еще увидимся😉. Когда я вам понадоблюсь, просто наберите /start\", reply_markup=ReplyKeyboardRemove())\n",
        "        return ConversationHandler.END\n",
        "    elif ans == \"Исправить\":\n",
        "        update.message.reply_text(\"📍Прикрепите геолокацию или напишите адрес конца маршрута еще раз.📍\", reply_markup=ReplyKeyboardRemove())\n",
        "        return END\n",
        "    else:\n",
        "        update.message.reply_text(\"Адрес начала пути: \" + location_start, reply_markup=ReplyKeyboardRemove())\n",
        "        update.message.reply_text(\"Адрес конца пути: \" + location_end)\n",
        "        #update.message.reply_text(\"Координаты начала пути: \" + start_lon + \" \" + start_lat)\n",
        "        #update.message.reply_text(\"Координаты конца пути: \"  + end_lon + \" \" + end_lat)\n",
        "        reply_keyboard = [['Эконом', 'Комфорт', 'Комфорт+']]\n",
        "        update.message.reply_text(\"Выберете класс на котором хотите поехать\", reply_markup=ReplyKeyboardMarkup(reply_keyboard, one_time_keyboard=True))\n",
        "        return CLASS\n",
        "\n",
        "\n",
        "def start_loc(update: Updater, context: CallbackContext):\n",
        "    global location_start, location_end, class_of_taxi, start_lon, start_lat, end_lon, end_lat\n",
        "    reply_keyboard = [['Все правильно', 'Исправить', 'Закончить']]\n",
        "    #получаем текст от пользователя\n",
        "    address = update.message.text\n",
        "    #отправляем текст в нашу функцио получения адреса из координат\n",
        "    location_start, start_lon, start_lat = get_coords_from_address(address)\n",
        "    #вовщращаем результат пользователю в боте\n",
        "    if location_start == \"\":\n",
        "        update.message.reply_text(\"К сожалению, я не смог найти такого адреса😪\")\n",
        "        update.message.reply_text(\"📍Пришлите еще раз адрес или геопозицию📍\")\n",
        "        return START\n",
        "    else:\n",
        "        update.message.reply_text(location_start)\n",
        "        update.message.reply_text(\"Проверьте, правильно ли указал адрес?\", reply_markup=ReplyKeyboardMarkup(reply_keyboard, one_time_keyboard=True))\n",
        "        return CHECK_START\n",
        "\n",
        "\n",
        "\n",
        "def end_loc(update: Updater, context: CallbackContext):\n",
        "    global location_start, location_end, class_of_taxi, start_lon, start_lat, end_lon, end_lat\n",
        "    reply_keyboard = [['Все правильно', 'Исправить', 'Закончить']]\n",
        "    #получаем текст от пользователя\n",
        "    address = update.message.text\n",
        "    #отправляем текст в нашу функцио получения адреса из координат\n",
        "    location_end, end_lon, end_lat = get_coords_from_address(address)\n",
        "    #вовщращаем результат пользователю в боте\n",
        "    if location_end == \"\":\n",
        "        update.message.reply_text(\"К сожалению, я не смог найти такого адреса😪\")\n",
        "        update.message.reply_text(\"📍Пришлите еще раз адрес или геопозицию📍\")\n",
        "        return END\n",
        "    else:\n",
        "        update.message.reply_text(location_end)\n",
        "        update.message.reply_text(\"Проверьте, правильно ли указал адрес?\", reply_markup=ReplyKeyboardMarkup(reply_keyboard, one_time_keyboard=True))\n",
        "        return CHECK_END\n",
        "\n",
        "#Эта функция будет использоваться, если пользователь послал локацию.\n",
        "def start_location(update, context):\n",
        "    reply_keyboard = [['Все правильно', 'Исправить', 'Закончить']]\n",
        "    global location_start, location_end, class_of_taxi, start_lon, start_lat, end_lon, end_lat\n",
        "    #получаем обьект сообщения (локации)\n",
        "    message = update.message\n",
        "    #вытаскиваем из него долготу и ширину\n",
        "    start_lon = str(message.location.longitude)\n",
        "    start_lat = str(message.location.latitude)\n",
        "    current_position = (start_lon, start_lat)\n",
        "    #создаем строку в виде ДОЛГОТА,ШИРИНА\n",
        "    coords = f\"{current_position[0]},{current_position[1]}\"\n",
        "    #отправляем координаты в нашу функцию получения адреса\n",
        "    location_start = get_address_from_coords(coords)\n",
        "    if location_start == \"\":\n",
        "        update.message.reply_text(\"К сожалению, я не смог найти такого адреса😪\")\n",
        "        update.message.reply_text(\"📍Пришлите еще раз адрес или геопозицию📍\")\n",
        "        return START\n",
        "    else:\n",
        "        update.message.reply_text(location_start)\n",
        "        update.message.reply_text(\"Проверьте, правильно ли указал адрес?\", reply_markup=ReplyKeyboardMarkup(reply_keyboard, one_time_keyboard=True))\n",
        "        return CHECK_START\n",
        "\n",
        "def end_location(update, context):\n",
        "    global location_start, location_end, class_of_taxi, start_lon, start_lat, end_lon, end_lat\n",
        "    #получаем обьект сообщения (локации)\n",
        "    reply_keyboard = [['Все правильно', 'Исправить', 'Закончить']]\n",
        "    message = update.message\n",
        "    #вытаскиваем из него долготу и ширину\n",
        "    end_lon = str(message.location.longitude)\n",
        "    end_lat = str(message.location.latitude)\n",
        "    current_position = (end_lon, end_lat)\n",
        "    #создаем строку в виде ДОЛГОТА,ШИРИНА\n",
        "    coords = f\"{current_position[0]},{current_position[1]}\"\n",
        "    #отправляем координаты в нашу функцию получения адреса\n",
        "    location_end = get_address_from_coords(coords)\n",
        "    #вовщращаем результат пользователю в боте\n",
        "    if location_end == \"\":\n",
        "        update.message.reply_text(\"К сожалению, я не смог найти такого адреса😪\")\n",
        "        update.message.reply_text(\"📍Пришлите еще раз адрес или геопозицию📍\")\n",
        "        return END\n",
        "    else:\n",
        "        update.message.reply_text(location_end)\n",
        "        update.message.reply_text(\"Проверьте, правильно ли указал адрес?\", reply_markup=ReplyKeyboardMarkup(reply_keyboard, one_time_keyboard=True))\n",
        "        return CHECK_END\n",
        "        \n",
        "\n",
        "    return END\n",
        "\n",
        "def cancel(update, context):\n",
        "    global location_start, location_end, class_of_taxi, start_lon, start_lat, end_lon, end_lat\n",
        "    user = update.message.from_user\n",
        "    logger.info(\"User %s canceled the conversation.\", user.first_name)\n",
        "    update.message.reply_text(\n",
        "        'Bye! I hope we can talk again some day.')\n",
        "\n",
        "    return ConversationHandler.END\n",
        "\n",
        "\n",
        "#Это основная функция, где запускается наш бот\n",
        "def main():\n",
        "    #создаем бота и указываем его токен\n",
        "    #создаем регистратор событий, который будет понимать, что сделал пользователь и на какую функцию надо переключиться.\n",
        "    updater = Updater(\"1488173907:AAFf9wCXN9XsWW6NvL7K5RrO5w_yiCWGEvo\", use_context=True)\n",
        "    # Get the dispatcher to register handlers\n",
        "    dispatcher = updater.dispatcher\n",
        "\n",
        "    conv_handler = ConversationHandler(\n",
        "        entry_points=[CommandHandler('start', start)],\n",
        "        states={\n",
        "            START: [MessageHandler(Filters.text, start_loc), MessageHandler(Filters.location, start_location)],\n",
        "            CHECK_START: [MessageHandler(Filters.text, check_start)],\n",
        "            END: [MessageHandler(Filters.text, end_loc), MessageHandler(Filters.location, end_location)],\n",
        "            CHECK_END: [MessageHandler(Filters.text, check_end)],\n",
        "            CLASS: [MessageHandler(Filters.text, class_taxi)]\n",
        "            }, fallbacks=[CommandHandler('csdvjnsdvjhvjnvdsnksc', cancel)],\n",
        "    )\n",
        "    #fallbacks=[CommandHandler('cancel', cancel)]\n",
        "    dispatcher.add_handler(conv_handler)\n",
        "    updater.start_polling()\n",
        "    updater.idle()\n",
        "\n",
        "\n",
        "if __name__ == '__main__':\n",
        "    #запускаем функцию def main\n",
        "    main()"
      ],
      "execution_count": null,
      "outputs": []
    },
    {
      "cell_type": "code",
      "metadata": {
        "id": "mS6meRFBhQTj"
      },
      "source": [
        "def check(update: Updater, context: CallbackContext):\n",
        "\n",
        "    ans = update.message.text\n",
        "    print(ans)\n",
        "    if ans == 'Закончить':\n",
        "        return -1\n",
        "    elif ans == 'Исправить':\n",
        "        return 0\n",
        "    else:\n",
        "        return 1\n",
        "\n",
        "\n",
        "def start_loc(update: Updater, context: CallbackContext):\n",
        "    reply_keyboard = [['Все правильно', 'Исправить', 'Закончить']]\n",
        "    #получаем текст от пользователя\n",
        "    coords = update.message.text\n",
        "    #отправляем текст в нашу функцио получения адреса из координат\n",
        "    location_start = get_address_from_coords(coords)\n",
        "    #вовщращаем результат пользователю в боте\n",
        "    if location_start == \"\":\n",
        "          update.message.reply_text(\"😪К сожалению, я не смог найти такого адреса, введите еще раз🔄\")\n",
        "          start_loc(Updater, CallbackContext)\n",
        "    else:\n",
        "        update.message.reply_text(location_start)\n",
        "        update.message.reply_text(\"Проверьте, правильно ли я указал адрес?\", reply_markup=ReplyKeyboardMarkup(reply_keyboard, one_time_keyboard=True))\n",
        "        ans = update.last\n",
        "        if ans == \"Все правильно\":\n",
        "            update.message.reply_text(\"📍Прикрепите геолокацию или напишите адрес конца маршрута.📍\")\n",
        "            return END\n",
        "        elif ans == \"Исправить\":\n",
        "            update.message.reply_text(\"📍Прикрепите геолокацию или напишите адрес начала маршрута еще раз.📍\")\n",
        "            start_location(Updater, CallbackContext)\n",
        "        else:\n",
        "            return ConversationHandler.END"
      ],
      "execution_count": null,
      "outputs": []
    },
    {
      "cell_type": "markdown",
      "metadata": {
        "id": "0RvFXo74RgB5"
      },
      "source": [
        "1) сделать изначальные координаты (долгота широта) начал и конца\n",
        "2) добавить класс, кол-во пассажиров, ребенок (модет быть яндекс плюс)\n",
        "3) написать парсеры\n"
      ]
    },
    {
      "cell_type": "code",
      "metadata": {
        "colab": {
          "base_uri": "https://localhost:8080/"
        },
        "id": "-7FFqjkjUx7r",
        "outputId": "18b47ea2-9ebb-44d9-882c-a0036b17a56d"
      },
      "source": [
        "!pip install pprintpp"
      ],
      "execution_count": null,
      "outputs": [
        {
          "output_type": "stream",
          "text": [
            "Requirement already satisfied: pprintpp in /usr/local/lib/python3.6/dist-packages (0.4.0)\n"
          ],
          "name": "stdout"
        }
      ]
    },
    {
      "cell_type": "code",
      "metadata": {
        "colab": {
          "base_uri": "https://localhost:8080/"
        },
        "id": "GKnRG1VgNV_U",
        "outputId": "2d741420-dc46-4f8f-f7cd-105158a04637"
      },
      "source": [
        "#Яндек.Go на вход получает долготу и широту точек\n",
        "#классы = Эконом, Комфорт, Комфорт+, Бизнес, Минивен.\n",
        "#можно добавить дополнительные опции: \n",
        "#yellowcarnumber — машина с желтыми номерами.\n",
        "#childchair — наличие детского кресла в машине.\n",
        "#bicycle — перевозка велосипеда.\n",
        "#conditioner — кондиционер в машине.\n",
        "#animaltransport — перевозка животных.\n",
        "#universal — машина-универсал.\n",
        "#check — необходима квитанция об оплате.\n",
        "#ski — перевозка лыж или сноуборда.\n",
        "#waiting_in_transit — ожидание в пути.\n",
        "#meeting_arriving — встреча с табличкой.\n",
        "#luggage — платная перевозка багажа.\n",
        "\n",
        "import requests\n",
        "import pprintpp\n",
        "\n",
        "\n",
        "\n",
        "\n",
        "CLID = \"ak1507\"\n",
        "APIKEY = \"03a97db47ad24327b7c9f5e5551658e7\"\n",
        "r = requests.get('https://taxi-routeinfo.taxi.yandex.net/taxi_info?clid=ak1507&apikey=03a97db47ad24327b7c9f5e5551658e7&rll=37.470941,55.653356~37.453513,55.664658&class=minivan')\n",
        "r = r.json()\n",
        "print(r['options'][0]['price_text'], r['time_text'])\n"
      ],
      "execution_count": null,
      "outputs": [
        {
          "output_type": "stream",
          "text": [
            "~373 руб. 7 мин\n"
          ],
          "name": "stdout"
        }
      ]
    },
    {
      "cell_type": "code",
      "metadata": {
        "colab": {
          "base_uri": "https://localhost:8080/"
        },
        "id": "RA4Hm3WF1nEE",
        "outputId": "f0aaddb7-3ef7-49d2-859e-39d411fbc07e"
      },
      "source": [
        "import pprintpp\n",
        "\n",
        "PARAMS = {\n",
        "    \"apikey\": \"bb01a0bf-02f4-459a-9764-1b854cbce432\",\n",
        "    \"format\": \"json\",\n",
        "    \"lang\": \"ru_RU\",\n",
        "    \"kind\": \"house\",\n",
        "    \"geocode\": \n",
        "}\n",
        "\n",
        "r = requests.get(url=\"https://geocode-maps.yandex.ru/1.x/\", params=PARAMS)\n",
        "json_data = r.json()\n",
        "pprintpp.pprint(json_data['response']['GeoObjectCollection']['featureMember'][0]['GeoObject']['Point']['pos'])\n",
        "pprintpp.pprint(json_data['response']['GeoObjectCollection']['featureMember'][0]['GeoObject']['metaDataProperty']['GeocoderMetaData']['AddressDetails']['Country']['AddressLine'])\n",
        "\n",
        "долгота = 37.47174\n",
        "широта = 55.652999"
      ],
      "execution_count": null,
      "outputs": [
        {
          "output_type": "stream",
          "text": [
            "'37.47174 55.652999'\n",
            "'Россия, Москва, проспект Вернадского, 94к4'\n"
          ],
          "name": "stdout"
        }
      ]
    },
    {
      "cell_type": "code",
      "metadata": {
        "colab": {
          "base_uri": "https://localhost:8080/"
        },
        "id": "7OSWy9q6DTox",
        "outputId": "65fad1d4-95fc-454c-bf38-cfa453962644"
      },
      "source": [
        "a = 1\n",
        "print(type(a))"
      ],
      "execution_count": null,
      "outputs": [
        {
          "output_type": "stream",
          "text": [
            "<class 'int'>\n"
          ],
          "name": "stdout"
        }
      ]
    },
    {
      "cell_type": "code",
      "metadata": {
        "id": "OWQeiGWfdnUD",
        "colab": {
          "base_uri": "https://localhost:8080/"
        },
        "outputId": "dc0a216f-d106-4b62-c792-311d3c0db6b0"
      },
      "source": [
        "!pip install selenium"
      ],
      "execution_count": null,
      "outputs": [
        {
          "output_type": "stream",
          "text": [
            "Collecting selenium\n",
            "\u001b[?25l  Downloading https://files.pythonhosted.org/packages/80/d6/4294f0b4bce4de0abf13e17190289f9d0613b0a44e5dd6a7f5ca98459853/selenium-3.141.0-py2.py3-none-any.whl (904kB)\n",
            "\u001b[K     |████████████████████████████████| 911kB 4.3MB/s \n",
            "\u001b[?25hRequirement already satisfied: urllib3 in /usr/local/lib/python3.6/dist-packages (from selenium) (1.24.3)\n",
            "Installing collected packages: selenium\n",
            "Successfully installed selenium-3.141.0\n"
          ],
          "name": "stdout"
        }
      ]
    },
    {
      "cell_type": "code",
      "metadata": {
        "id": "nailrV0iSlBp"
      },
      "source": [
        "import selenium\n",
        "\n"
      ],
      "execution_count": null,
      "outputs": []
    },
    {
      "cell_type": "code",
      "metadata": {
        "id": "YDksikFwdmf0"
      },
      "source": [
        ""
      ],
      "execution_count": null,
      "outputs": []
    }
  ]
}